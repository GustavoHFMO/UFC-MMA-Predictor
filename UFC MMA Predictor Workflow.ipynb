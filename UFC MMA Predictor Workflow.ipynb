{
 "cells": [
  {
   "cell_type": "markdown",
   "metadata": {
    "collapsed": true
   },
   "source": [
    "<img src=\"http://i.imgur.com/Vu37PDA.jpg\" style=\"PADDING-RIGHT: 85px\">\n",
    "\n",
    "<center> <h1> UFC MMA Predictor Workflow </h1> </center>\n",
    "<center> <h2> by Jason Chan Jin An </h2> </center>\n",
    "\n",
    "<center> \n",
    "<h3> [**Github**](https://www.github.com/jasonchanhku) || [**LinkedIn**](https://www.linkedin.com/in/jason-chan-jin-an-45a76a76/) || [**Email**](mailto:jasonchanhku@gmail.com) \n",
    "</h3> \n",
    "</center>\n"
   ]
  },
  {
   "cell_type": "markdown",
   "metadata": {},
   "source": [
    "# Introduction\n",
    "\n",
    "This is the workflow and backend process of the **UFC MMA Predictor Webapp** i built (**insert link here**). This Jupyter Notebook highlights the following:\n",
    "\n",
    "* Background\n",
    "* Objective\n",
    "* Data Requirements\n",
    "    * Web Scraping\n",
    "    * Data Cleansing\n",
    "    * Feature Engineering\n",
    "* Exploratory Data Analysis\n",
    "    * Statistical Overview\n",
    "    * Heatmap and Correlation\n",
    "    * Statistical Tests (favourite has better stats than underdog ???)\n",
    "    * Distribution Plots\n",
    "    * Clustering\n",
    "* Modelling the Data\n",
    "    * Logistic Regression\n",
    "    * Random Forest\n",
    "    * Neural Network\n",
    "* Citation\n",
    "* Track with Google Analytics\n",
    "* Collaboration & Sponsorship"
   ]
  },
  {
   "cell_type": "markdown",
   "metadata": {},
   "source": [
    "# Background\n",
    "\n",
    "This web app is the outcome of being a full time Data Scientist and a hardcore UFC fan. As a hardcore UFC fan, it has always been a challenge to predict the winner of a fight. It is either the **Favourite** or **Underdog**. However, there are times where my predictions go horribly wrong. Being the curious person I am, I found myself asking questions such as:\n",
    "\n",
    "* How often do favourites triumph over underdogs?\n",
    "* Do fighters with better fighting stats always win?\n",
    "* What are the most important skills that determines the winner? Is it striking? Wrestling? BJJ?\n",
    "* How has the MMA sport evolved? Do fights go the distance more?\n",
    "\n",
    "All these questions then lead me to build a web app that utilizes machine learning to predict the winner of a fight. This app will then contribute as a validation point to my predictions. "
   ]
  },
  {
   "cell_type": "markdown",
   "metadata": {},
   "source": [
    "# Objective\n",
    "The objective of this data science project is to build a model that:\n",
    "* Predicts better than 50% accuracy (better than randomly selecting any of the two fighter as the winner)\n",
    "* Predicts better than choosing all favourite only (roughly 60%)\n",
    "\n",
    "By satisfying these two objectives, I believe my web app can add some serious value."
   ]
  },
  {
   "cell_type": "code",
   "execution_count": null,
   "metadata": {
    "collapsed": true
   },
   "outputs": [],
   "source": []
  }
 ],
 "metadata": {
  "kernelspec": {
   "display_name": "Python 3",
   "language": "python",
   "name": "python3"
  },
  "language_info": {
   "codemirror_mode": {
    "name": "ipython",
    "version": 3
   },
   "file_extension": ".py",
   "mimetype": "text/x-python",
   "name": "python",
   "nbconvert_exporter": "python",
   "pygments_lexer": "ipython3",
   "version": "3.6.0"
  }
 },
 "nbformat": 4,
 "nbformat_minor": 0
}
